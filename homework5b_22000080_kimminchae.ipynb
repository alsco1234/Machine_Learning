{
 "cells": [
  {
   "cell_type": "markdown",
   "id": "3c44338d",
   "metadata": {},
   "source": [
    "## Preparatory scripts and data\n",
    "\n",
    "This part of the document contains the preparatory scripts that load and preprocess data.\n",
    "Read and execute the code snippets below before you work on any of the problems."
   ]
  },
  {
   "cell_type": "code",
   "execution_count": 2842,
   "id": "848cbcb9",
   "metadata": {},
   "outputs": [],
   "source": [
    "# Imports\n",
    "import numpy as np\n",
    "import random as rd\n",
    "import matplotlib.pyplot as plt"
   ]
  },
  {
   "cell_type": "code",
   "execution_count": 2843,
   "id": "f6a76e84",
   "metadata": {},
   "outputs": [],
   "source": [
    "# Utility functions\n",
    "def normalize_mv(X, mu=None, sigma=None):\n",
    "    \"\"\"\n",
    "    Normalizes input matrix X.\n",
    "    If mu and sigma are provided, this function normalizes X using them.\n",
    "    Otherwise, the function first estimates mu and sigma from X, and then normalizes X.\n",
    "    Input: X - input matrix\n",
    "           mu - a vector of column-wise mean values (can be omitted)\n",
    "           sigma - a vector of column-wise standard deviation values (can be omitted)\n",
    "    Output: \n",
    "    \"\"\"\n",
    "    if mu is None and sigma is None:\n",
    "        mu = X.mean(axis=0)\n",
    "        sigma = X.std(axis=0)\n",
    "    return (X - mu)/sigma, mu, sigma\n",
    "\n",
    "\n",
    "def get_accuracy(Y_true, Y_pred):\n",
    "    \"\"\"\n",
    "    Measures the classification accuracy.\n",
    "    Input: Y_true - true label vector (ground truth)\n",
    "           Y_pred - predicted label vector\n",
    "    return a floating point number representing accuracy\n",
    "    \"\"\"\n",
    "    assert len(Y_true) == len(Y_pred)  # optional - assert makes sure a certain condition satisfies\n",
    "    return np.sum(Y_true == Y_pred)/len(Y_true)\n",
    "    "
   ]
  },
  {
   "cell_type": "code",
   "execution_count": 2844,
   "id": "74e18669",
   "metadata": {},
   "outputs": [
    {
     "name": "stdout",
     "output_type": "stream",
     "text": [
      "(615, 9)\n",
      "(615,)\n",
      "(68, 9)\n",
      "(68,)\n"
     ]
    }
   ],
   "source": [
    "# Data prep.\n",
    "\n",
    "# Step 1) Load raw data\n",
    "data = np.genfromtxt('breast-cancer-wisconsin.csv', delimiter=',', skip_header=0)\n",
    "# print(data)\n",
    "\n",
    "# Step 2) Remove rows with missing values\n",
    "data=data[~np.isnan(data).any(axis=1)]\n",
    "\n",
    "# Step 3) Split data into X and y\n",
    "X = data[:, 1:-1]\n",
    "y = data[:, -1]\n",
    "\n",
    "# Step 4) Create a 0/1 label vector \n",
    "y[y==2] = 0  # benign\n",
    "y[y==4] = 1  # malignant\n",
    "\n",
    "# Step 5) Split data into 90% (615 instances) of trainset (X_tr, y_tr) and\n",
    "#        10% (68 instances) of testset (X_ts, y_ts)\n",
    "N = data.shape[0]\n",
    "N_tr = np.round(N*.9).astype(int)\n",
    "\n",
    "X_tr = X[:N_tr, :]\n",
    "y_tr = y[:N_tr]\n",
    "\n",
    "X_ts = X[N_tr:, :]\n",
    "y_ts = y[N_tr:]\n",
    "\n",
    "print(X_tr.shape)\n",
    "print(y_tr.shape)\n",
    "print(X_ts.shape)\n",
    "print(y_ts.shape)\n",
    "# print(X_tr)\n",
    "# print(X_ts)\n",
    "\n",
    "# Step 6) Normalize the input attributes using your normalize() function\n",
    "X_tr, mu_tr, sigma_tr = normalize_mv(X_tr)\n",
    "X_ts, _, _ = normalize_mv(X_ts, mu_tr, sigma_tr)\n",
    "# print(X_tr)\n",
    "# print(X_ts)\n",
    "\n",
    "N = X_tr.shape[0]\n",
    "m = X_tr.shape[1]\n"
   ]
  },
  {
   "cell_type": "code",
   "execution_count": 2845,
   "id": "0f521731",
   "metadata": {},
   "outputs": [
    {
     "data": {
      "text/plain": [
       "(615, 9)"
      ]
     },
     "execution_count": 2845,
     "metadata": {},
     "output_type": "execute_result"
    }
   ],
   "source": [
    "# Prepare data frames\n",
    "\n",
    "import pandas as pd\n",
    "\n",
    "X_tr_df = pd.DataFrame(X_tr, columns=['clump', 'u_cell_sz', 'u_cell_shp',\n",
    "                                     'adhesion','se_cell_sz','nuclei',\n",
    "                                     'chromatin','nucleioli','mitoses'])\n",
    "y_tr_df = pd.Categorical(y_tr, categories=[0, 1])\n",
    "# print(X_tr_df)\n",
    "# print(y_tr_df)\n",
    "\n",
    "X_tr_df.shape\n"
   ]
  },
  {
   "cell_type": "markdown",
   "id": "ed11c1b2",
   "metadata": {},
   "source": [
    "## Problem 1. Linear Discriminant Analysis (LDA)"
   ]
  },
  {
   "cell_type": "markdown",
   "id": "fd30235d",
   "metadata": {},
   "source": [
    "**(b) Below provides a code skeleton for linear discriminant analysis. Complete the code such that it computes `S_w` and `S_b` as discussed in class.**"
   ]
  },
  {
   "cell_type": "code",
   "execution_count": 2846,
   "id": "1360a16a",
   "metadata": {},
   "outputs": [],
   "source": [
    "# Train LDA\n",
    "# Getting per-class mean vectors\n",
    "X_tr_stats = X_tr_df.join(pd.Series(y_tr_df, name='class'))\n",
    "class_feature_means = pd.DataFrame(columns=[0,1])\n",
    "for c, rows in X_tr_stats.groupby('class'):\n",
    "    class_feature_means[c] = rows.mean(numeric_only=True)\n",
    "\n",
    "    \n",
    "# Computing the \"within class\" scatter\n",
    "S_w = np.zeros((m, m))\n",
    "\n",
    "## TODO: compute the \"within class\" scatter, S_w\n",
    "for c, rows in X_tr_stats.groupby('class'):\n",
    "    rows = rows.drop(['class'], axis=1)\n",
    "    mean_subtracted= rows - class_feature_means[c].values.reshape(1,-1)\n",
    "    s = np.inner(mean_subtracted.T, mean_subtracted.T)\n",
    "    S_w += s\n",
    "\n",
    "# Computing the \"between classes\" scatter\n",
    "feature_means = X_tr_stats.mean(numeric_only=True)\n",
    "S_b = np.zeros((m, m))\n",
    "\n",
    "## TODO: compute the \"between classes\" scatter, S_b \n",
    "m0 = class_feature_means[0].values.reshape(1,-1)\n",
    "m1 = class_feature_means[1].values.reshape(1,-1)\n",
    "\n",
    "S_b = np.inner((m0 - m1).T, (m0 - m1).T)\n",
    "\n",
    "\n",
    "# print(pd.DataFrame(S_w))\n",
    "# print(pd.DataFrame(S_b))\n",
    "\n",
    "\n",
    "# EVD\n",
    "eigen_values, eigen_vectors = np.linalg.eig(np.linalg.inv(S_w).dot(S_b))\n",
    "pairs = [(np.abs(eigen_values[i]), eigen_vectors[:,i]) for i in range(len(eigen_values))]\n",
    "pairs = sorted(pairs, key=lambda x: x[0], reverse=True)\n",
    "\n",
    "# for pair in pairs:\n",
    "#     print(pair[0])\n"
   ]
  },
  {
   "cell_type": "markdown",
   "id": "fa9b0879",
   "metadata": {},
   "source": [
    "For your reference, the `S_w` and `S_b` matrices that I computed are provided below:"
   ]
  },
  {
   "cell_type": "code",
   "execution_count": 2847,
   "id": "67048428",
   "metadata": {},
   "outputs": [
    {
     "name": "stdout",
     "output_type": "stream",
     "text": [
      "            0           1           2           3           4           5  \\\n",
      "0  298.315707   41.244621   46.234538  -12.488340   15.833233   -1.835958   \n",
      "1   41.244621  212.374316  149.443251   79.462845  121.747891   17.315613   \n",
      "2   46.234538  149.443251  205.738796   63.573498   99.087972   26.089239   \n",
      "3  -12.488340   79.462845   63.573498  317.014606   68.888599   55.431366   \n",
      "4   15.833233  121.747891   99.087972   68.888599  325.564094   15.885017   \n",
      "5   -1.835958   17.315613   26.089239   55.431366   15.885017  194.340164   \n",
      "6    7.851536   83.412027   71.865771   86.460470   60.264380   46.394064   \n",
      "7   10.762675   80.850090   81.910439   62.777873   77.323333    5.872512   \n",
      "8   30.502465   73.472742   57.632513   69.688808  114.377733   -4.620759   \n",
      "\n",
      "            6           7           8  \n",
      "0    7.851536   10.762675   30.502465  \n",
      "1   83.412027   80.850090   73.472742  \n",
      "2   71.865771   81.910439   57.632513  \n",
      "3   86.460470   62.777873   69.688808  \n",
      "4   60.264380   77.323333  114.377733  \n",
      "5   46.394064    5.872512   -4.620759  \n",
      "6  274.692140   73.937838   10.063752  \n",
      "7   73.937838  307.898735   79.337924  \n",
      "8   10.063752   79.337924  504.366545  \n",
      "          0         1         2         3         4         5         6  \\\n",
      "0  2.215356  2.497935  2.518434  2.148957  2.117905  2.553265  2.296499   \n",
      "1  2.497935  2.816557  2.839671  2.423066  2.388053  2.878945  2.589428   \n",
      "2  2.518434  2.839671  2.862976  2.442952  2.407651  2.902571  2.610678   \n",
      "3  2.148957  2.423066  2.442952  2.084549  2.054427  2.476738  2.227668   \n",
      "4  2.117905  2.388053  2.407651  2.054427  2.024741  2.440950  2.195479   \n",
      "5  2.553265  2.878945  2.902571  2.476738  2.440950  2.942714  2.646785   \n",
      "6  2.296499  2.589428  2.610678  2.227668  2.195479  2.646785  2.380614   \n",
      "7  2.181580  2.459850  2.480037  2.116193  2.085615  2.514337  2.261486   \n",
      "8  1.309404  1.476424  1.488540  1.270158  1.251805  1.509127  1.357364   \n",
      "\n",
      "          7         8  \n",
      "0  2.181580  1.309404  \n",
      "1  2.459850  1.476424  \n",
      "2  2.480037  1.488540  \n",
      "3  2.116193  1.270158  \n",
      "4  2.085615  1.251805  \n",
      "5  2.514337  1.509127  \n",
      "6  2.261486  1.357364  \n",
      "7  2.148319  1.289440  \n",
      "8  1.289440  0.773933  \n"
     ]
    }
   ],
   "source": [
    "print(pd.DataFrame(S_w))\n",
    "print(pd.DataFrame(S_b))\n"
   ]
  },
  {
   "cell_type": "markdown",
   "id": "c4b535d3",
   "metadata": {},
   "source": [
    "**(c) After you complete and run your code for `S_w` and `S_b`, the following experiment should run with no problem. Excute the following code snippet and find the resulting figure. What does the figure represent? Explain in your own words.**"
   ]
  },
  {
   "cell_type": "code",
   "execution_count": 2848,
   "id": "76d35855",
   "metadata": {},
   "outputs": [
    {
     "data": {
      "image/png": "[encoded data removed]",
      "text/plain": [
       "<Figure size 432x288 with 1 Axes>"
      ]
     },
     "metadata": {
      "needs_background": "light"
     },
     "output_type": "display_data"
    }
   ],
   "source": [
    "w = np.hstack((pairs[0][1].reshape(m,1))).real\n",
    "\n",
    "y_tr_out = np.array(X_tr.dot(w))\n",
    "y_ts_out = np.array(X_ts.dot(w))\n",
    "\n",
    "# print(y_tr_out)\n",
    "# print(y_ts_out)\n",
    "\n",
    "from sklearn.preprocessing import LabelEncoder\n",
    "\n",
    "le = LabelEncoder()\n",
    "y_code = le.fit_transform(X_tr_stats['class'])\n",
    "plt.xlabel('Projections (Covariates)')\n",
    "# plt.ylabel('')\n",
    "\n",
    "plt.scatter(\n",
    "    y_tr_out,\n",
    "    np.random.rand(1,len(y_tr_out))/2 + .25,\n",
    "    c=y_code,\n",
    "    cmap='rainbow',\n",
    "    alpha=0.7\n",
    ")\n",
    "plt.axis([-5.5, 5.5, 0, 1])\n",
    "ax = plt.gca()\n",
    "ax.axes.yaxis.set_visible(False)"
   ]
  },
  {
   "cell_type": "markdown",
   "id": "eaf64745",
   "metadata": {},
   "source": [
    "In order to use the model (that is, the `w` vector) for prediction, one needs to determine the decision threshold. Namely, we would like to fix a value that determines all projected value above it fall in class 1; otherwise, class 0.\n"
   ]
  },
  {
   "cell_type": "markdown",
   "id": "c717b31b",
   "metadata": {},
   "source": [
    "**(d) Write a script that finds the best threshold value from the training data. And then perform a prediction on the testing data and report the accuracy.**"
   ]
  },
  {
   "cell_type": "code",
   "execution_count": 2849,
   "id": "734459ee",
   "metadata": {},
   "outputs": [
    {
     "name": "stdout",
     "output_type": "stream",
     "text": [
      "[y_tr_out] threshold :  0.09999999999999416 , accuray :  0.975609756097561 \n",
      "\n",
      "[y_ts_out] threshold :  0.09999999999999416 , accuray :  0.9852941176470589 \n",
      "\n"
     ]
    }
   ],
   "source": [
    "# Problem 1 (d)\n",
    "## TODO: Complete the snippet\n",
    "# print(y_tr_out)\n",
    "\n",
    "threshold = -4.0\n",
    "max_accuracy = 0\n",
    "max_threshold = 0\n",
    "\n",
    "while threshold < 2.0:\n",
    "    this_y_tr_out = y_tr_out\n",
    "    this_y_tr_out = np.where(y_tr_out < threshold, 1, 0)\n",
    "\n",
    "    if max_accuracy < get_accuracy(y_tr, this_y_tr_out):\n",
    "        max_accuracy = get_accuracy(y_tr, this_y_tr_out)\n",
    "        max_threshold = threshold\n",
    "    threshold += 0.05\n",
    "\n",
    "print(\"[y_tr_out] threshold : \", max_threshold, \", accuray : \", max_accuracy, \"\\n\")\n",
    "\n",
    "this_y_ts_out = np.where(y_ts_out < max_threshold, 1, 0)\n",
    "accuracy = get_accuracy(y_ts, this_y_ts_out)\n",
    "print(\"[y_ts_out] threshold : \", max_threshold, \", accuray : \", accuracy, \"\\n\")"
   ]
  },
  {
   "cell_type": "markdown",
   "id": "6a7f04b2",
   "metadata": {},
   "source": [
    "## Problem 2. Logistic Regression"
   ]
  },
  {
   "cell_type": "markdown",
   "id": "c66e4c2d",
   "metadata": {},
   "source": [
    "**(a) Implement the sigmoid function.**"
   ]
  },
  {
   "cell_type": "code",
   "execution_count": 2850,
   "id": "6a648a2b",
   "metadata": {},
   "outputs": [],
   "source": [
    "# Problem 2 (a)\n",
    "def sigmoid(z):\n",
    "    # TODO: Complete the function such that \n",
    "    #       it returns the correct output of the sigmoid function\n",
    "    return 1 / (1 + np.exp(-z))\n"
   ]
  },
  {
   "cell_type": "markdown",
   "id": "9d2bf47f",
   "metadata": {},
   "source": [
    "Upon completion, you should see a nice sigmoid curve after running the following code."
   ]
  },
  {
   "cell_type": "code",
   "execution_count": 2851,
   "id": "ab516d80",
   "metadata": {},
   "outputs": [
    {
     "data": {
      "text/plain": [
       "(-8.0, 8.0)"
      ]
     },
     "execution_count": 2851,
     "metadata": {},
     "output_type": "execute_result"
    },
    {
     "data": {
      "image/png": "[encoded data removed]",
      "text/plain": [
       "<Figure size 432x288 with 1 Axes>"
      ]
     },
     "metadata": {
      "needs_background": "light"
     },
     "output_type": "display_data"
    }
   ],
   "source": [
    "# visualizing the sigmoid function\n",
    "z = np.linspace(-8,8,101)\n",
    "v = sigmoid(z)  ## Your function is invoked\n",
    "\n",
    "plt.plot(z, v)\n",
    "plt.axvline(c='grey', lw=1)\n",
    "plt.axline((-8, 0.5), (8, 0.5), c='grey', lw=1)\n",
    "\n",
    "plt.grid(color='grey', linestyle='-', linewidth=.2)\n",
    "\n",
    "plt.ylim(-0.05, 1.05)\n",
    "plt.xlim(-8, 8)"
   ]
  },
  {
   "cell_type": "markdown",
   "id": "a182f54d",
   "metadata": {},
   "source": [
    "**(c) Complete the `gradient_descent()` function such that it properly update w on each iteration.**"
   ]
  },
  {
   "cell_type": "markdown",
   "id": "f24e069c",
   "metadata": {},
   "source": []
  },
  {
   "cell_type": "code",
   "execution_count": 2852,
   "id": "ac2e2bbb",
   "metadata": {},
   "outputs": [],
   "source": [
    "# Problem 2 (b-c)\n",
    "def compute_cost(X, y, w):\n",
    "    N = len(y)\n",
    "    z = sigmoid(X @ w)\n",
    "    epsilon = 1e-5\n",
    "    cost = (1/N)*(((-y).T @ np.log(z + epsilon))-((1-y).T @ np.log(1-z + epsilon)))\n",
    "    return cost\n",
    "\n",
    "\n",
    "\n",
    "def gradient_descent(X, y, w, alpha, n_iters, threshold=1e-07):\n",
    "    N = len(y)\n",
    "    log_j = []\n",
    "    j_last = np.Inf\n",
    "\n",
    "    for i in range(n_iters):\n",
    "        ## TODO: Complete the next line such that w_new have the updated weight values\n",
    "        w_new = w - (-alpha/N * (X.T @ (y - sigmoid(X @ w))))\n",
    "        j_new = compute_cost(X, y, w)\n",
    "        \n",
    "        if j_last - j_new < threshold:\n",
    "            break\n",
    "        \n",
    "        w = w_new\n",
    "        log_j.append(j_new)\n",
    "        j_last = j_new\n",
    "\n",
    "    return w, log_j"
   ]
  },
  {
   "cell_type": "markdown",
   "id": "8d79de73",
   "metadata": {},
   "source": [
    "Your compelete `gradient_descent()` should run with the following `train_logreg()` function."
   ]
  },
  {
   "cell_type": "code",
   "execution_count": 2853,
   "id": "e0a91186",
   "metadata": {},
   "outputs": [],
   "source": [
    "# Problem 2 supplements: Additional function(s) required for this assignment\n",
    "def train_logreg(X_tr, y_tr, alpha=0.01, n_iters=1500):\n",
    "    \"\"\"\n",
    "    train_logreg\n",
    "    Input: X_tr - Training input attributes\n",
    "           y_tr - Training target labels\n",
    "           alpha - learning rate alpha (default: 0.01)\n",
    "           n_iters - number of iterations (default: 1500)\n",
    "    Output: w_star - trained model weights\n",
    "            log_j - cost history\n",
    "    \"\"\"\n",
    "    N_tr, d_tr = X_tr.shape\n",
    "    \n",
    "    X_tr_b = np.hstack((X_tr, np.ones((N_tr, 1))))\n",
    "    w_init = np.zeros(d_tr + 1)  # np.random.rand(d_tr + 1)\n",
    "    \n",
    "    initial_cost = compute_cost(X_tr_b, y_tr, w_init)\n",
    "    print(\"Initial J(w_init, D_tr) is: \", initial_cost, \"\\n\")\n",
    "    \n",
    "    w_star, log_j = gradient_descent(X_tr_b, y_tr, w_init, alpha, n_iters)\n",
    "    \n",
    "    print(\"w*: \\n\", w_star, \"\\n\")\n",
    "    print(\"J(w*, D_tr): \", log_j[-1])\n",
    "    \n",
    "    return w_star, log_j"
   ]
  },
  {
   "cell_type": "markdown",
   "id": "1e552199",
   "metadata": {},
   "source": [
    "**(e) Implement `predict_logreg(X, w)` that takes an input matrix (X) and a weight vector (w). The function returns the 0/1 predictions and estimated probability P(y=1|x) for the input instances.**"
   ]
  },
  {
   "cell_type": "code",
   "execution_count": 2854,
   "id": "c4ff8f0e",
   "metadata": {},
   "outputs": [],
   "source": [
    "def predict_logreg(X, w):\n",
    "    \"\"\"\n",
    "    predict_logreg\n",
    "    Input: X - Input attributes to predict the target output\n",
    "           w - Trained model weights\n",
    "    Output: y_pred - predicted target labels {0, 1}\n",
    "            y_prob - estimated conditional probability P(y=1|x)\n",
    "    \"\"\"\n",
    "    \n",
    "    ## TODO: Complete this function\n",
    "    N = X.shape\n",
    "    X_b = np.hstack((np.ones(X.shape[0]).reshape(-1,1), X))\n",
    "\n",
    "    y_prob = sigmoid(X_b @ w)\n",
    "    y_pred = np.round(y_prob)\n",
    "\n",
    "    return y_pred"
   ]
  },
  {
   "cell_type": "markdown",
   "id": "44096c38",
   "metadata": {},
   "source": [
    "All in all, your complete code should run in the next experiment. A correct implementation would result in the accuracy evaluated on the breast cancer dataset much higher than 0.9."
   ]
  },
  {
   "cell_type": "code",
   "execution_count": 2855,
   "id": "c73f8f2e",
   "metadata": {},
   "outputs": [
    {
     "name": "stdout",
     "output_type": "stream",
     "text": [
      "Initial J(w_init, D_tr) is:  0.6931271807599426 \n",
      "\n",
      "w*: \n",
      " [ 0.69791806  0.60148189  0.65545492  0.5296396   0.46322818  0.82592807\n",
      "  0.60273484  0.5292748   0.36595843 -0.45764689] \n",
      "\n",
      "J(w*, D_tr):  0.0962007329581487\n",
      "0.9642276422764228\n",
      "0.9852941176470589\n"
     ]
    }
   ],
   "source": [
    "# Experiment with LogReg (continued after the data preparation steps - the thrid code cell from the top)\n",
    "\n",
    "# Step 7) Train a logReg model\n",
    "Model_logreg, log_j_logreg = train_logreg(X_tr, y_tr, 0.005, 3000)\n",
    "\n",
    "\n",
    "# Step 8) Apply the trained LogReg model for prediction on both X_tr and X_ts\n",
    "y_tr_pred = predict_logreg(X_tr, Model_logreg)\n",
    "y_ts_pred = predict_logreg(X_ts, Model_logreg)\n",
    "\n",
    "# Step 9) Measure the accuracy on y_tr and y_ts, respectively,\n",
    "#        using your get_accuracy function.\n",
    "print(get_accuracy(y_tr, y_tr_pred))\n",
    "print(get_accuracy(y_ts, y_ts_pred))"
   ]
  },
  {
   "cell_type": "markdown",
   "id": "736956d8",
   "metadata": {},
   "source": [
    "**(f) Read the results. What are your accuracy on the training data and that of the testing data?**"
   ]
  },
  {
   "cell_type": "markdown",
   "id": "67ba3fb4",
   "metadata": {},
   "source": [
    "**(g) Variable `log_j_logreg` contains the loss evaluated on each training iteration. Visualizing this variable highlights the progression of training. Plot the changes recorded in `log_j_logreg`; that is, x-axis is the iteration number, and y-axis is the output of the J function.**"
   ]
  },
  {
   "cell_type": "code",
   "execution_count": 2856,
   "id": "3901df2d",
   "metadata": {},
   "outputs": [
    {
     "data": {
      "image/png": "[encoded data removed]",
      "text/plain": [
       "<Figure size 432x288 with 1 Axes>"
      ]
     },
     "metadata": {
      "needs_background": "light"
     },
     "output_type": "display_data"
    }
   ],
   "source": [
    "## TODO: Plot the chnages recorded in log_j_logreg (a.k.a. learning curve)\n",
    "# Training a L2-regularized LinReg\n",
    "plt.plot(range(len(log_j_logreg)), log_j_logreg, 'r')\n",
    "plt.title('learning_curve')\n",
    "plt.ylabel('Cost')\n",
    "plt.xlabel('#Iterations')\n",
    "plt.show()"
   ]
  },
  {
   "cell_type": "markdown",
   "id": "9f806855",
   "metadata": {},
   "source": [
    "**EXTRA CREDIT: (h) Implement the L2-regularized logistic regression and repeat the above experiment. After finishing implementation, adjust `lambda`, that determines the influence of the regularizer, and repeat the experiments to acquire the best test result. You may also adjust `learning rate` and `n_iters`(#epochs) to improve the results.**"
   ]
  },
  {
   "cell_type": "code",
   "execution_count": 2858,
   "id": "10e77985",
   "metadata": {},
   "outputs": [
    {
     "name": "stdout",
     "output_type": "stream",
     "text": [
      "Initial J(w_init, D_tr) is:  0.6931271807599426 \n",
      "\n",
      "w*: \n",
      " [ 0.13462302  0.14793097  0.14978715  0.12704102  0.12416492  0.15639393\n",
      "  0.13663227  0.12920902  0.07519935 -0.06195857] \n",
      "\n",
      "J(w*, D_tr):  0.5290104138919469\n",
      "0.9707317073170731\n",
      "0.9852941176470589\n"
     ]
    },
    {
     "data": {
      "image/png": "[encoded data removed]",
      "text/plain": [
       "<Figure size 432x288 with 1 Axes>"
      ]
     },
     "metadata": {
      "needs_background": "light"
     },
     "output_type": "display_data"
    }
   ],
   "source": [
    "# Problem (h)\n",
    "def compute_cost_l2(X, y, w):\n",
    "    N = len(y)\n",
    "    z = sigmoid(X @ w)\n",
    "    epsilon = 1e-5\n",
    "    cost = (1/N)*(((-y).T @ np.log(z + epsilon))-((1-y).T @ np.log(1-z + epsilon)))\n",
    "    cost += w.dot(w)\n",
    "    return cost\n",
    "\n",
    "def gradient_descent_l2(X, y, w, alpha, n_iters, threshold=1e-07):\n",
    "    N = len(y)\n",
    "    log_j = []\n",
    "    j_last = np.Inf\n",
    "\n",
    "    for i in range(n_iters):\n",
    "        ## TODO: Complete the next line such that w_new have the updated weight values\n",
    "        w_new = w - (-2*alpha/N * (X.T @ (y - sigmoid(X @ w))))\n",
    "        j_new = compute_cost_l2(X, y, w)\n",
    "        \n",
    "        if j_last - j_new < threshold:\n",
    "            break\n",
    "        \n",
    "        w = w_new\n",
    "        log_j.append(j_new)\n",
    "        j_last = j_new\n",
    "\n",
    "    return w, log_j\n",
    "\n",
    "def train_logreg_l2(X_tr, y_tr, alpha=0.01, n_iters=1500):\n",
    "    N_tr, d_tr = X_tr.shape\n",
    "    \n",
    "    X_tr_b = np.hstack((X_tr, np.ones((N_tr, 1))))\n",
    "    w_init = np.zeros(d_tr + 1)  # np.random.rand(d_tr + 1)\n",
    "    \n",
    "    initial_cost = compute_cost_l2(X_tr_b, y_tr, w_init)\n",
    "    print(\"Initial J(w_init, D_tr) is: \", initial_cost, \"\\n\")\n",
    "    \n",
    "    w_star, log_j = gradient_descent_l2(X_tr_b, y_tr, w_init, alpha, n_iters)\n",
    "    \n",
    "    print(\"w*: \\n\", w_star, \"\\n\")\n",
    "    print(\"J(w*, D_tr): \", log_j[-1])\n",
    "    \n",
    "    return w_star, log_j\n",
    "\n",
    "# Step 7) Train a logReg model\n",
    "Model_logreg_l2, log_j_logreg_l2 = train_logreg_l2(X_tr, y_tr, 0.05, 1500)\n",
    "\n",
    "# Step 8) Apply the trained LogReg model for prediction on both X_tr and X_ts\n",
    "y_tr_pred_l2 = predict_logreg(X_tr, Model_logreg_l2)\n",
    "y_ts_pred_l2 = predict_logreg(X_ts, Model_logreg_l2)\n",
    "\n",
    "# Step 9) Measure the accuracy on y_tr and y_ts, respectively,\n",
    "#        using your get_accuracy function.\n",
    "print(get_accuracy(y_tr, y_tr_pred_l2))\n",
    "print(get_accuracy(y_ts, y_ts_pred_l2))\n",
    "\n",
    "plt.plot(range(len(log_j_logreg_l2)), log_j_logreg_l2, 'r')\n",
    "plt.title('learning_curve')\n",
    "plt.ylabel('Cost')\n",
    "plt.xlabel('#Iterations')\n",
    "plt.show()"
   ]
  }
 ],
 "metadata": {
  "kernelspec": {
   "display_name": "Python 3.10.1 64-bit",
   "language": "python",
   "name": "python3"
  },
  "language_info": {
   "codemirror_mode": {
    "name": "ipython",
    "version": 3
   },
   "file_extension": ".py",
   "mimetype": "text/x-python",
   "name": "python",
   "nbconvert_exporter": "python",
   "pygments_lexer": "ipython3",
   "version": "3.10.1"
  },
  "vscode": {
   "interpreter": {
    "hash": "aee8b7b246df8f9039afb4144a1f6fd8d2ca17a180786b69acc140d282b71a49"
   }
  }
 },
 "nbformat": 4,
 "nbformat_minor": 5
}
