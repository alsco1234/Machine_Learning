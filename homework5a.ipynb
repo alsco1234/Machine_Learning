{
 "cells": [
  {
   "cell_type": "markdown",
   "id": "fc7894d8",
   "metadata": {},
   "source": [
    "## Problem 1. Linear regression"
   ]
  },
  {
   "cell_type": "code",
   "execution_count": 166,
   "id": "2432cd80",
   "metadata": {},
   "outputs": [],
   "source": [
    "import numpy as np\n",
    "import matplotlib.pyplot as plt"
   ]
  },
  {
   "cell_type": "code",
   "execution_count": 167,
   "id": "59f843d4",
   "metadata": {},
   "outputs": [],
   "source": [
    "# Problem 1 supplements: Additional function(s) required for this assignment\n",
    "def normalize_mv(X, mu=None, sigma=None):\n",
    "    \"\"\"\n",
    "    Normalizes input matrix X.\n",
    "    If mu and sigma are provided, this function normalizes X using them.\n",
    "    Otherwise, the function first estimates mu and sigma from X, and then normalizes X.\n",
    "    Input: X - input matrix\n",
    "           mu - a vector of column-wise mean values (can be omitted)\n",
    "           sigma - a vector of column-wise standard deviation values (can be omitted)\n",
    "    Output: \n",
    "    \"\"\"\n",
    "    if mu is None and sigma is None:\n",
    "        mu = X.mean(axis=0)\n",
    "        sigma = X.std(axis=0)\n",
    "    return (X - mu)/sigma, mu, sigma\n",
    "\n",
    "\n",
    "def get_rmse(y_true, y_pred):\n",
    "    \"\"\"\n",
    "    Measures the regression error using root-mean-square error (RMSE)\n",
    "    Input: Y_true - true output (ground truth)\n",
    "           Y_pred - predicted output\n",
    "    return a floating point number representing RMSE\n",
    "    \"\"\"\n",
    "    assert len(y_true) == len(y_pred)\n",
    "    return np.sqrt(np.mean((y_true - y_pred)**2)) "
   ]
  },
  {
   "cell_type": "code",
   "execution_count": 168,
   "id": "15cb3962",
   "metadata": {},
   "outputs": [
    {
     "name": "stdout",
     "output_type": "stream",
     "text": [
      "(456, 21)\n",
      "(456,)\n",
      "(50, 21)\n",
      "(50,)\n"
     ]
    }
   ],
   "source": [
    "# Problem 1 supplements: Data preparation for Problem 1.\n",
    "# load data\n",
    "data_tr = np.genfromtxt('boston_houses_train.csv', delimiter=',', skip_header=1)\n",
    "data_ts = np.genfromtxt('boston_houses_test.csv', delimiter=',', skip_header=1)\n",
    "\n",
    "# normalization\n",
    "X_tr, mu_tr, sigma_tr = normalize_mv(data_tr[:, :-1])\n",
    "y_tr = data_tr[:, -1].astype(np.float64)\n",
    "X_ts, _, _ = normalize_mv(data_ts[:, :-1], mu_tr, sigma_tr)\n",
    "y_ts = data_ts[:, -1].astype(np.float64)\n",
    "\n",
    "print(X_tr.shape)\n",
    "print(y_tr.shape)\n",
    "print(X_ts.shape)\n",
    "print(y_ts.shape)"
   ]
  },
  {
   "cell_type": "code",
   "execution_count": 169,
   "id": "66e097b9",
   "metadata": {},
   "outputs": [],
   "source": [
    "# Problem 1 (a) - Implement compute_cost()\n",
    "def compute_cost(X, y, w):\n",
    "    \"\"\"\n",
    "    compute_cost (= compute the error function J(w,D))\n",
    "    Input: X - Input attributes\n",
    "           y - Target values\n",
    "           w - model weights\n",
    "    Output: cost computed given (X, y) and w (i.e., evaluation of function J())\n",
    "    \"\"\"\n",
    "    \n",
    "    # TODO: Complete this function\n",
    "    m=X.shape[0] #N\n",
    "    J = (1/m) * np.sum((y - X.dot(w))**2)\n",
    "    return J"
   ]
  },
  {
   "cell_type": "code",
   "execution_count": 170,
   "id": "dd997dcc",
   "metadata": {},
   "outputs": [],
   "source": [
    "# Problem 1 (a) - Your compute_cost() should work with the following functions\n",
    "def gradient_descent(X, y, w, alpha, n_iters, threshold=1e-07):\n",
    "    \"\"\"\n",
    "    gradient_descent\n",
    "    Input: X, y, w, alpha, n_iters\n",
    "    Output: \n",
    "    \"\"\"\n",
    "    N = len(y)\n",
    "    log_j = []\n",
    "    j_last = np.Inf\n",
    "\n",
    "    for i in range(n_iters):\n",
    "        w_new = w - (-2*alpha/N * X.T @ (y - X @ w))\n",
    "        j_new = compute_cost(X, y, w)\n",
    "        \n",
    "        if np.abs(j_last - j_new) < threshold:\n",
    "            break\n",
    "            # \"j_last - j_new < threshold\" is preferred for the sentinel\n",
    "            # Here np.abs() is used for educational purpose\n",
    "            \n",
    "        w = w_new\n",
    "        log_j.append(j_new)\n",
    "        j_last = j_new\n",
    "\n",
    "    return w, log_j\n",
    "    \n",
    "\n",
    "def train_linreg(X_tr, y_tr, alpha=0.01, n_iters=1500):\n",
    "    \"\"\"\n",
    "    train_linreg\n",
    "    Input: X_tr - Training input attributes\n",
    "           y_tr - Training target values\n",
    "           alpha - learning rate alpha (default: 0.01)\n",
    "           n_iters - number of iterations (default: 1500)\n",
    "    Output: w_star - trained model weights\n",
    "            log_j - cost history\n",
    "    \"\"\"\n",
    "    N_tr, d_tr = X_tr.shape\n",
    "    \n",
    "    X_tr_b = np.hstack((X_tr, np.ones((N_tr, 1)))) # adding a bias term at the far right of the matrix\n",
    "    w_init = np.zeros(d_tr + 1)  # np.random.rand(d_tr + 1)\n",
    "    \n",
    "    initial_cost = compute_cost(X_tr_b, y_tr, w_init)\n",
    "    print(\"Initial J(w_init, D_tr) is: \", initial_cost, \"\\n\")\n",
    "    \n",
    "    w_star, log_j = gradient_descent(X_tr_b, y_tr, w_init, alpha, n_iters)\n",
    "    \n",
    "    print(\"w*: \\n\", w_star, \"\\n\")\n",
    "    print(\"J(w*, D_tr): \", log_j[-1])\n",
    "    \n",
    "    return w_star, log_j"
   ]
  },
  {
   "cell_type": "code",
   "execution_count": 171,
   "id": "cb792e84",
   "metadata": {},
   "outputs": [
    {
     "name": "stdout",
     "output_type": "stream",
     "text": [
      "Initial J(w_init, D_tr) is:  601.1605263157894 \n",
      "\n",
      "w*: \n",
      " [-0.98423976  0.9789124   0.19501163  0.87777439 -0.78209369  1.05873945\n",
      " -0.09628398 -3.04293934  2.14854721 -1.55106407 -1.89858986  0.85519071\n",
      " -3.47077153  0.17586123  0.24059276 -0.64204962  1.05874273 -0.09680907\n",
      " -0.47352301  1.06483885 -0.09673251 22.69649123] \n",
      "\n",
      "J(w*, D_tr):  21.786880042225043\n"
     ]
    },
    {
     "data": {
      "image/png": "[encoded data removed]",
      "text/plain": [
       "<Figure size 432x288 with 1 Axes>"
      ]
     },
     "metadata": {
      "needs_background": "light"
     },
     "output_type": "display_data"
    }
   ],
   "source": [
    "# Problem 1 (b) Execute this code cell, after implementing compute_cost(X, y, w)\n",
    "\n",
    "Model_linreg, log_j_linreg = train_linreg(X_tr, y_tr, 0.005, 3000)\n",
    "\n",
    "plt.plot(range(len(log_j_linreg)), log_j_linreg, 'r')\n",
    "plt.title('learning_curve')\n",
    "plt.ylabel('Cost')\n",
    "plt.xlabel('#Iterations')\n",
    "plt.show()"
   ]
  },
  {
   "cell_type": "code",
   "execution_count": 172,
   "id": "48fe28d2",
   "metadata": {},
   "outputs": [],
   "source": [
    "# Problem 1 (c) Implement the predict_linreg(X, w) below.\n",
    "def predict_linreg(X, w):\n",
    "    \"\"\"\n",
    "    predict_linreg\n",
    "    Input: X - Input attributes to predict the target output\n",
    "           w - Trained model weights\n",
    "    Output: y_pred - predicted target values\n",
    "    \"\"\"\n",
    "    \n",
    "    # TODO: Complete this function\n",
    "    b = w[-1]\n",
    "    w = np.delete(w, 21, axis=0)\n",
    "    # X = np.delete(X, 21, axis=0)\n",
    "    y_pred = np.dot(X,w)\n",
    "    return y_pred + b"
   ]
  },
  {
   "cell_type": "code",
   "execution_count": 173,
   "id": "d28db73d",
   "metadata": {},
   "outputs": [
    {
     "name": "stdout",
     "output_type": "stream",
     "text": [
      "4.66763967930312\n",
      "5.002223099284747\n"
     ]
    },
    {
     "data": {
      "text/plain": [
       "(-10.0, 55.0)"
      ]
     },
     "execution_count": 173,
     "metadata": {},
     "output_type": "execute_result"
    },
    {
     "data": {
      "image/png": "[encoded data removed]",
      "text/plain": [
       "<Figure size 432x288 with 1 Axes>"
      ]
     },
     "metadata": {
      "needs_background": "light"
     },
     "output_type": "display_data"
    }
   ],
   "source": [
    "# Problem 1 (d)\n",
    "# prediction\n",
    "y_tr_pred = predict_linreg(X_tr, Model_linreg)\n",
    "y_ts_pred = predict_linreg(X_ts, Model_linreg)\n",
    "\n",
    "# print out the results\n",
    "print(get_rmse(y_tr, y_tr_pred))\n",
    "print(get_rmse(y_ts, y_ts_pred))\n",
    "\n",
    "# Draw scatter plots that compare true and predicted target values\n",
    "# (blue dots for y_tr; oranges dots for y_ts)\n",
    "plt.scatter(y_tr,y_tr_pred, s=10)\n",
    "plt.xlabel('True y')\n",
    "plt.ylabel('Predicted y')\n",
    "plt.title('Training data')\n",
    "\n",
    "plt.scatter(y_ts,y_ts_pred, s=10)\n",
    "plt.xlabel('True y')\n",
    "plt.ylabel('Predicted y')\n",
    "plt.title('Testing data')\n",
    "\n",
    "plt.axline((-100, -100), (100, 100), c='grey', lw=1)\n",
    "plt.ylim(-10, 55)\n",
    "plt.xlim(-10, 55)"
   ]
  },
  {
   "cell_type": "code",
   "execution_count": 174,
   "id": "e24e826d",
   "metadata": {},
   "outputs": [
    {
     "name": "stdout",
     "output_type": "stream",
     "text": [
      "Initial J(w_init, D_tr) is:  601.1605263157894 \n",
      "\n",
      "w*: \n",
      " [ 8.21848366e+00 -2.70064795e+00 -1.52113346e+00 -4.24350636e-01\n",
      " -2.17427843e+00 -8.28643184e-01  1.13332642e+00 -5.05326849e-01\n",
      " -3.23869812e+00  6.10350456e-01 -4.26322316e-01 -2.41003851e-01\n",
      "  1.80220783e+00 -3.47964065e+00  7.19130235e-02  1.34852003e-01\n",
      " -8.73585298e-01  1.13750328e+00 -5.05322771e-01 -7.97573869e-01\n",
      "  1.15882805e+00 -5.05889638e-01  1.05300091e-01  3.52608349e-01\n",
      "  5.79980957e-01  1.33277057e+00 -6.51394929e-02  2.65192500e-01\n",
      " -2.39437761e-01  5.64695797e-01  8.79733869e-02  5.45610448e-01\n",
      "  9.39869913e-02 -1.64651094e-01  1.10650531e+00  2.28700424e-01\n",
      " -1.13295080e-01 -1.70403412e-01  2.62599384e-01 -2.39779991e-01\n",
      " -2.78694385e-01  2.75060831e-01 -2.39595994e-01 -1.21496484e-01\n",
      " -6.34748050e-01  2.82169543e-03 -2.12592232e-01  3.83518534e-02\n",
      " -1.35200766e-01 -2.99378046e-01  2.33357869e-01  7.73194671e-01\n",
      "  7.97420260e-02  4.33642761e-01 -5.54108264e-01  4.88220087e-02\n",
      " -7.37916826e-02 -3.19080541e-01  3.57637586e-02 -1.35622194e-01\n",
      " -1.92900742e-01  2.24292600e-02 -1.35206864e-01  5.16354346e-01\n",
      " -9.07766199e-02  1.27925456e-01  3.25981742e-01  3.38240808e-01\n",
      "  7.02906291e-01 -5.33213901e-01 -4.64393769e-01 -4.24674130e-01\n",
      " -1.25150590e-01 -8.61470302e-01  2.16678708e-01 -1.73239166e-01\n",
      "  1.09202027e-01  3.42388433e-01  3.38318643e-01  1.04169408e-01\n",
      "  3.44891916e-01  3.37923397e-01  1.04132396e+00 -2.71329125e-01\n",
      " -1.96507624e-01  2.64864336e-02 -1.35860541e-01  5.22060319e-01\n",
      "  3.99979067e-01 -1.22300779e-02 -4.53280268e-01 -7.84100131e-02\n",
      " -8.51277651e-02  1.40612324e-01 -2.91103392e-01 -2.10617977e-01\n",
      "  2.65295694e-02 -3.13226340e-01 -2.08280566e-01  2.59682765e-02\n",
      "  3.67652318e-03  3.86395717e-03 -1.40695959e-01  2.73894864e-02\n",
      " -2.81248905e-01  1.82453965e-01 -2.18414213e-01  3.41979958e-02\n",
      "  4.76283745e-01 -1.75365084e-01 -4.05740570e-03  2.11864430e-02\n",
      "  2.05657990e-04 -1.40549214e-01  1.83704641e-02  2.27995172e-02\n",
      " -1.40794475e-01  9.90896729e-02 -1.47084515e-01 -1.41762700e-02\n",
      " -1.63362482e-01 -5.33232739e-01 -2.20107891e-01 -6.01575675e-02\n",
      " -1.94663114e-01  1.15675877e-01  5.90420229e-02 -6.40224734e-02\n",
      "  7.90081841e-02 -1.47619066e-01  8.21391955e-02  9.77872397e-02\n",
      " -1.47501150e-01  5.47346691e-02  2.57756440e-01  4.18417725e-01\n",
      " -6.13272702e-03 -9.88868555e-02 -6.10749950e-01 -5.63198317e-01\n",
      "  1.42356442e-01  8.52304721e-03 -1.12704212e-01 -1.45326735e-01\n",
      "  5.47392801e-02 -1.43354539e-01 -1.19705799e-01  5.44412320e-02\n",
      "  1.22956316e+00 -5.24088561e-01 -1.23327033e+00 -1.14637527e-01\n",
      " -3.19681651e-01  3.70163298e-01  3.26728904e-02 -3.52724018e-01\n",
      "  2.74728720e-02 -2.58661107e-02  2.57673835e-01  2.07650860e-02\n",
      " -3.32633712e-02  2.57921105e-01  4.23491891e-01  9.85264151e-01\n",
      "  3.77724361e-01 -4.45642073e-02 -1.64285427e+00  5.24135009e-01\n",
      "  4.44321485e-02 -4.16833219e-01 -1.57735206e-01  4.18213070e-01\n",
      " -3.95287192e-01 -1.17096642e-01  4.18004487e-01  1.87765817e-01\n",
      "  1.31227264e+00 -2.97296444e-01 -1.39081317e+00 -2.05311089e-01\n",
      " -2.29455116e-01  1.01369584e-01 -5.18337313e-01 -6.28122250e-03\n",
      "  1.12376003e-01 -4.93815888e-01 -6.73264768e-03  3.27528630e-01\n",
      "  3.22036539e-03  4.94837569e-01  2.03501639e-01  5.16926531e-02\n",
      " -2.48303854e-01 -2.29078023e-01 -9.89432198e-02 -2.53255231e-01\n",
      " -2.07804916e-01 -9.88013425e-02 -2.54915282e-01 -4.46927716e-01\n",
      "  2.18713845e-01 -6.25814943e-02  3.36518770e-02 -8.72385977e-02\n",
      " -6.11059746e-01  2.04162344e-01 -6.83984557e-02 -6.10684450e-01\n",
      "  9.79807498e-01 -1.87356723e-01  9.74981026e-02  4.70130255e-01\n",
      " -1.73805356e-01 -5.62675315e-01  2.95330509e-01 -1.70809339e-01\n",
      " -5.62719209e-01  1.03650331e-01 -6.42307510e-02 -1.96768195e-01\n",
      "  1.09782703e-01  1.42545487e-01 -2.88252743e-01  1.04123723e-01\n",
      "  1.42197601e-01 -6.44234777e-02  8.87898079e-02  2.03043922e-02\n",
      "  9.06860106e-03 -8.13532718e-02  4.83316309e-02  8.78698009e-03\n",
      "  4.21229460e-02 -6.70891320e-02 -1.12550756e-01  3.51376594e-02\n",
      " -4.54778209e-02 -1.12799699e-01  5.89456266e-02 -1.45861538e-01\n",
      "  7.79535159e-02  7.76321225e-02 -1.45744275e-01  5.47439464e-02\n",
      " -1.43210456e-01 -1.20242379e-01  5.44458653e-02  3.46050106e-02\n",
      "  1.01212798e-01 -1.43448736e-01  9.66482899e-02 -1.20123619e-01\n",
      "  5.41478764e-02  8.21848366e+00] \n",
      "\n",
      "J(w*, D_tr):  6.098892280378535\n",
      "14.19633745576538\n",
      "11.917735055898213\n"
     ]
    },
    {
     "data": {
      "text/plain": [
       "(-10.0, 55.0)"
      ]
     },
     "execution_count": 174,
     "metadata": {},
     "output_type": "execute_result"
    },
    {
     "data": {
      "image/png": "[encoded data removed]",
      "text/plain": [
       "<Figure size 432x288 with 1 Axes>"
      ]
     },
     "metadata": {
      "needs_background": "light"
     },
     "output_type": "display_data"
    }
   ],
   "source": [
    "# Problem 1 (e)\n",
    "from sklearn.preprocessing import PolynomialFeatures # use this lib\n",
    "\n",
    "# TODO: Apply the polynomial feature function\n",
    "#       and create X_tr_ext from X_tr, and\n",
    "#                  X_ts_ext from X_ts\n",
    "\n",
    "poly_features = PolynomialFeatures(degree=2)\n",
    "X_tr_ext = poly_features.fit_transform(X_tr)\n",
    "X_ts_ext = poly_features.fit_transform(X_ts)\n",
    "\n",
    "\"\"\" You do NOT need to modify the rest of the code cell \"\"\"\n",
    "\n",
    "# training\n",
    "Model_linreg, log_j_linreg = train_linreg(X_tr_ext, y_tr, 0.005, 3000)\n",
    "\n",
    "# prediction\n",
    "y_tr_pred_ext = predict_linreg(X_tr_ext, Model_linreg)\n",
    "y_ts_pred_ext = predict_linreg(X_ts_ext, Model_linreg)\n",
    "\n",
    "print(get_rmse(y_tr, y_tr_pred_ext))\n",
    "print(get_rmse(y_ts, y_ts_pred_ext))\n",
    "\n",
    "# drawing a scatter plot of prediction\n",
    "plt.scatter(y_tr,y_tr_pred_ext, s=10)\n",
    "plt.xlabel('True y')\n",
    "plt.ylabel('Predicted y')\n",
    "plt.title('Training data')\n",
    "\n",
    "plt.scatter(y_ts,y_ts_pred_ext, s=10)\n",
    "plt.xlabel('True y')\n",
    "plt.ylabel('Predicted y')\n",
    "plt.title('Testing data')\n",
    "\n",
    "plt.axline((-100, -100), (100, 100), c='grey', lw=1)\n",
    "plt.ylim(-10, 55)\n",
    "plt.xlim(-10, 55)"
   ]
  },
  {
   "cell_type": "code",
   "execution_count": 175,
   "id": "452a736d",
   "metadata": {},
   "outputs": [
    {
     "name": "stdout",
     "output_type": "stream",
     "text": [
      "Initial J(w_init, D_tr) is:  117.44980280701755 \n",
      "\n",
      "w*: \n",
      " [-1.14810984  0.83170389 -0.22201332  0.7312099  -0.92328985  0.89555882\n",
      " -0.17916889 -3.95731701  2.12289209 -1.3803993  -2.13620594  0.52692848\n",
      " -3.79886326  0.07165848  0.13105842 -0.79769532  0.89885841 -0.17946455\n",
      " -0.64637258  0.89237032 -0.17942927 22.55538373] \n",
      "\n",
      "J(w*, D_tr):  0.004539879811583844\n"
     ]
    },
    {
     "data": {
      "image/png": "[encoded data removed]",
      "text/plain": [
       "<Figure size 432x288 with 1 Axes>"
      ]
     },
     "metadata": {
      "needs_background": "light"
     },
     "output_type": "display_data"
    },
    {
     "name": "stdout",
     "output_type": "stream",
     "text": [
      "4.730453716264633\n",
      "4.829538400992167\n"
     ]
    },
    {
     "data": {
      "image/png": "[encoded data removed]",
      "text/plain": [
       "<Figure size 432x288 with 1 Axes>"
      ]
     },
     "metadata": {
      "needs_background": "light"
     },
     "output_type": "display_data"
    }
   ],
   "source": [
    "# Problem 1 (g, h)\n",
    "def compute_cost_l2(X, y, w, l):\n",
    "    \"\"\"\n",
    "    compute_cost_l2 L2-regularized cost function (= compute the error function J_l2(w,D))\n",
    "    Input: X - Input attributes\n",
    "           y - Target values\n",
    "           w - model weights\n",
    "    Output: cost computed given (X, y) and w (i.e., evaluation of function J())\n",
    "    \"\"\"\n",
    "    # TODO: Complete this function\n",
    "    m=X.shape[0] # N\n",
    "    J = (1/m) * (l/2) * (np.sum(y - X.dot(w))**2)\n",
    "    return J\n",
    "\n",
    "\n",
    "def gradient_descent_l2(X, y, w, l, alpha, n_iters, threshold=1e-07):\n",
    "    \"\"\"\n",
    "    gradient_descent\n",
    "    Input: X, y, w, alpha, n_iters\n",
    "    Output: \n",
    "    \"\"\"\n",
    "    N = len(y)\n",
    "    log_j = []\n",
    "    j_last = np.Inf\n",
    "\n",
    "    for i in range(n_iters):\n",
    "        w_new = w - (-2*alpha/N * X.T @ (y - X @ w) + l*w.sum())\n",
    "        \n",
    "        j_new = compute_cost_l2(X, y, w, l)\n",
    "        \n",
    "        if np.abs(j_last - j_new) < threshold:\n",
    "            break\n",
    "            # \"j_last - j_new < threshold\" is preferred for the sentinel\n",
    "            # Here np.abs() is used for educational purpose\n",
    "\n",
    "            \n",
    "        w = w_new\n",
    "        log_j.append(j_new)\n",
    "        j_last = j_new\n",
    "\n",
    "    return w, log_j\n",
    "\n",
    "\n",
    "def train_linreg_l2(X_tr, y_tr, l=1.0, alpha=0.01, n_iters=3000):\n",
    "    \"\"\"\n",
    "    train_linreg\n",
    "    Input: X_tr - Training input attributes\n",
    "           y_tr - Training target values\n",
    "           l - regularization parameter lambda (default: 1.0)\n",
    "           alpha - learning rate alpha (default: 0.01)\n",
    "           n_iters - number of iterations (default: 1500)\n",
    "    Output: w_star - trained model weights\n",
    "            log_j - cost history\n",
    "    \"\"\"\n",
    "    N_tr, d_tr = X_tr.shape\n",
    "    \n",
    "    X_tr_b = np.hstack((X_tr, np.ones((N_tr, 1)))) # adding a bias term at the far right of the matrix\n",
    "    w_init = np.zeros(d_tr + 1)  # np.random.rand(d_tr + 1)\n",
    "    \n",
    "    initial_cost = compute_cost_l2(X_tr_b, y_tr, w_init, l)\n",
    "    print(\"Initial J(w_init, D_tr) is: \", initial_cost, \"\\n\")\n",
    "    \n",
    "    w_star, log_j = gradient_descent_l2(X_tr_b, y_tr, w_init, l, alpha, n_iters)\n",
    "    \n",
    "    print(\"w*: \\n\", w_star, \"\\n\")\n",
    "    print(\"J(w*, D_tr): \", log_j[-1])\n",
    "    \n",
    "    return w_star, log_j\n",
    "\n",
    "\n",
    "# Training a L2-regularized LinReg\n",
    "Model_l2, log_j_l2 = train_linreg_l2(X_tr, y_tr, 0.001, 0.05, 3000)\n",
    "\n",
    "plt.plot(range(len(log_j_l2)), log_j_l2, 'r')\n",
    "plt.title('learning_curve')\n",
    "plt.ylabel('Cost')\n",
    "plt.xlabel('#Iterations')\n",
    "plt.show()\n",
    "\n",
    "# prediction\n",
    "y_tr_pred_l2 = predict_linreg(X_tr, Model_l2)\n",
    "y_ts_pred_l2 = predict_linreg(X_ts, Model_l2)\n",
    "\n",
    "print(get_rmse(y_tr, y_tr_pred_l2))\n",
    "print(get_rmse(y_ts, y_ts_pred_l2))\n",
    "\n",
    "# drawing a scatter plot of prediction\n",
    "plt.scatter(y_tr,y_tr_pred, s=10)\n",
    "plt.xlabel('True y')\n",
    "plt.ylabel('Predicted y')\n",
    "plt.title('Training data')\n",
    "\n",
    "plt.scatter(y_ts,y_ts_pred, s=10)\n",
    "plt.xlabel('True y')\n",
    "plt.ylabel('Predicted y')\n",
    "plt.title('Testing data')\n",
    "\n",
    "plt.axline((-100, -100), (100, 100), c='grey', lw=1)\n",
    "plt.ylim(-10, 55)\n",
    "plt.xlim(-10, 55)\n",
    "plt.show()\n"
   ]
  },
  {
   "cell_type": "code",
   "execution_count": 176,
   "id": "200b8c1a",
   "metadata": {},
   "outputs": [
    {
     "name": "stdout",
     "output_type": "stream",
     "text": [
      "R2:\n",
      "[2.29859916e-02 7.26493345e-04 2.27204969e-01 3.55172942e-01\n",
      " 1.28733263e-02 3.84820379e-03 1.14348724e-03 1.16550867e-02\n",
      " 2.19134937e-02 2.33304492e-04 1.36778431e-02 1.14652413e-01\n",
      " 2.08313338e-02 5.76738342e-03 1.06198657e-02 9.62351475e-04\n",
      " 2.52419074e-02 1.21695356e-04 7.59757670e-04 1.38621390e+00\n",
      " 1.87228871e-01 4.30030390e-01 1.02444542e-04 1.34919336e-02\n",
      " 5.56675565e-05 5.74736234e-03 5.86703273e-04 7.70628436e-04\n",
      " 1.63796135e-02 1.24558427e+00 2.29802258e-03 2.35139259e-03\n",
      " 5.41413524e-04 1.65223191e-04 4.03447245e-03 1.18440569e-05\n",
      " 2.26743818e-04 4.70075325e-03 3.31207253e-02 2.79930564e-02\n",
      " 4.19688568e-02 3.54205239e-02 2.07729009e-01 1.46998600e+00\n",
      " 1.77441338e-01 2.25003065e-02 7.75087655e-04 8.42031754e+00\n",
      " 2.10629892e-01 1.22392655e-01]\n",
      "[2.14906424e-03 1.90498511e-01 1.67099466e-02 1.37922095e-02\n",
      " 2.16261774e-01 1.48280789e-02 4.64189030e-02 5.77136275e-02\n",
      " 2.07756219e-02 1.68464435e-02 3.12428323e-02 7.62524096e-02\n",
      " 8.42354155e-04 1.61348736e-02 4.24249346e-03 8.49934186e-02\n",
      " 8.79545780e-02 2.17959877e-01 5.50095029e-01 4.37781241e-01\n",
      " 4.28469837e-01 3.39630163e-01 2.61175891e-01 2.47006359e-01\n",
      " 1.47618384e-01 4.73256471e-02 5.88553416e-02 7.41365609e-03\n",
      " 1.84968908e-02 2.30883542e-01 2.69342771e-01 2.03097663e-01\n",
      " 1.07453469e-01 3.26926549e-02 2.19125110e-01 7.06569620e-02\n",
      " 7.68512029e-03 3.27714798e-02 3.30910274e-03 2.71649393e-01\n",
      " 1.94398824e+00 5.38410072e+00 1.48127011e-01 3.07848441e+01\n",
      " 4.53639707e-01 3.46275631e-01 3.18948508e-01 1.62052968e-01\n",
      " 2.53882398e-02 1.27901640e-01]\n",
      "[2.40080175e-02 1.24188279e-03 2.95159579e-01 5.93471667e-01\n",
      " 1.01357427e-02 7.04555496e-03 4.03259255e-03 3.39889761e-03\n",
      " 1.51641230e-02 1.65458131e-03 1.50512066e-02 7.41364730e-02\n",
      " 1.35515788e-02 2.33884354e-03 1.09680948e-02 1.69383894e-04\n",
      " 4.40073869e-02 4.60228305e-04 4.03782556e-03 1.63233733e+00\n",
      " 4.71967638e-01 7.25567773e-01 5.39409487e-04 1.54141574e-02\n",
      " 6.08763920e-04 7.19405929e-04 2.29135542e-05 1.80027215e-04\n",
      " 1.29655666e-02 1.24480155e+00 5.53695526e-04 3.23971272e-03\n",
      " 4.45261926e-05 4.71843995e-05 4.72314528e-03 1.22628437e-04\n",
      " 3.55122628e-04 9.75364543e-03 8.69347435e-02 6.61565777e-02\n",
      " 1.43911987e-01 2.26130895e-02 1.77572243e-01 9.20296145e-01\n",
      " 1.46050930e-01 1.06452595e-02 1.07036707e-04 6.34589465e+00\n",
      " 1.80430808e-01 8.53789929e-02]\n",
      "RMSE:\n",
      "5.002223099284747\n",
      "11.917735055898213\n",
      "4.829538400992167\n"
     ]
    }
   ],
   "source": [
    "def compute_r2(y_true, y_pred):\n",
    "    \"\"\"\n",
    "    compute_r2 (= compute R^2 (coefficient of determination) between two input vectors)\n",
    "    Input: X - Input attributes\n",
    "           y - Target values\n",
    "           w - model weights\n",
    "    Output: cost computed given (X, y) and w (i.e., evaluation of function J())\n",
    "    \"\"\"\n",
    "    \n",
    "    # TODO: Complete this function\n",
    "    r2 = 0\n",
    "    r2 = (1 - y_true/y_pred)**2\n",
    "    return r2\n",
    "\n",
    "def compute_rmse(y_true, y_pred):\n",
    "    \"\"\"\n",
    "    compute_rmse (= compute the root mean squared error between two input vectors)\n",
    "    Input: y_true - Input attributes\n",
    "           y - Target values\n",
    "           w - model weights\n",
    "    Output: cost computed given (X, y) and w (i.e., evaluation of function J())\n",
    "    \"\"\"\n",
    "    \n",
    "    # TODO: Complete this function\n",
    "    rmse = 0\n",
    "    assert len(y_true) == len(y_pred)\n",
    "    rmse =  np.sqrt(np.mean((y_true - y_pred)**2)) \n",
    "    return rmse\n",
    "\n",
    "print('R2:')\n",
    "print(compute_r2(y_ts, y_ts_pred))\n",
    "print(compute_r2(y_ts, y_ts_pred_ext))\n",
    "print(compute_r2(y_ts, y_ts_pred_l2))\n",
    "\n",
    "print('RMSE:')\n",
    "print(compute_rmse(y_ts, y_ts_pred))\n",
    "print(compute_rmse(y_ts, y_ts_pred_ext))\n",
    "print(compute_rmse(y_ts, y_ts_pred_l2))"
   ]
  },
  {
   "cell_type": "code",
   "execution_count": 177,
   "id": "de167a1d",
   "metadata": {},
   "outputs": [
    {
     "ename": "NameError",
     "evalue": "name 'X' is not defined",
     "output_type": "error",
     "traceback": [
      "\u001b[0;31m---------------------------------------------------------------------------\u001b[0m",
      "\u001b[0;31mNameError\u001b[0m                                 Traceback (most recent call last)",
      "\u001b[1;32m/Users/kimminchae/Desktop/ML/homework5a.ipynb 셀 13\u001b[0m in \u001b[0;36m<cell line: 3>\u001b[0;34m()\u001b[0m\n\u001b[1;32m      <a href='vscode-notebook-cell:/Users/kimminchae/Desktop/ML/homework5a.ipynb#X15sZmlsZQ%3D%3D?line=0'>1</a>\u001b[0m \u001b[39m# Problem 1 (j) - Perform a 5-fold crossvalidation\u001b[39;00m\n\u001b[1;32m      <a href='vscode-notebook-cell:/Users/kimminchae/Desktop/ML/homework5a.ipynb#X15sZmlsZQ%3D%3D?line=1'>2</a>\u001b[0m \u001b[39m#                 to find the best hyperparameter combination\u001b[39;00m\n\u001b[1;32m      <a href='vscode-notebook-cell:/Users/kimminchae/Desktop/ML/homework5a.ipynb#X15sZmlsZQ%3D%3D?line=2'>3</a>\u001b[0m \u001b[39mfor\u001b[39;00m i \u001b[39min\u001b[39;00m \u001b[39mrange\u001b[39m(\u001b[39m5\u001b[39m):\n\u001b[0;32m----> <a href='vscode-notebook-cell:/Users/kimminchae/Desktop/ML/homework5a.ipynb#X15sZmlsZQ%3D%3D?line=3'>4</a>\u001b[0m     X_train \u001b[39m=\u001b[39m X\n\u001b[1;32m      <a href='vscode-notebook-cell:/Users/kimminchae/Desktop/ML/homework5a.ipynb#X15sZmlsZQ%3D%3D?line=4'>5</a>\u001b[0m     y_train \u001b[39m=\u001b[39m y\n",
      "\u001b[0;31mNameError\u001b[0m: name 'X' is not defined"
     ]
    }
   ],
   "source": [
    "# Problem 1 (j) - Perform a 5-fold crossvalidation\n",
    "#                 to find the best hyperparameter combination\n",
    "for i in range(5):\n",
    "    X_train = X\n",
    "    y_train = y\n",
    "    \n"
   ]
  }
 ],
 "metadata": {
  "kernelspec": {
   "display_name": "Python 3.10.1 64-bit",
   "language": "python",
   "name": "python3"
  },
  "language_info": {
   "codemirror_mode": {
    "name": "ipython",
    "version": 3
   },
   "file_extension": ".py",
   "mimetype": "text/x-python",
   "name": "python",
   "nbconvert_exporter": "python",
   "pygments_lexer": "ipython3",
   "version": "3.10.1"
  },
  "vscode": {
   "interpreter": {
    "hash": "aee8b7b246df8f9039afb4144a1f6fd8d2ca17a180786b69acc140d282b71a49"
   }
  }
 },
 "nbformat": 4,
 "nbformat_minor": 5
}
